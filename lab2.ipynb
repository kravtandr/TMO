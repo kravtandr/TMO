{
 "cells": [
  {
   "cell_type": "code",
   "execution_count": 38,
   "metadata": {},
   "outputs": [
    {
     "data": {
      "text/html": [
       "<div>\n",
       "<style scoped>\n",
       "    .dataframe tbody tr th:only-of-type {\n",
       "        vertical-align: middle;\n",
       "    }\n",
       "\n",
       "    .dataframe tbody tr th {\n",
       "        vertical-align: top;\n",
       "    }\n",
       "\n",
       "    .dataframe thead th {\n",
       "        text-align: right;\n",
       "    }\n",
       "</style>\n",
       "<table border=\"1\" class=\"dataframe\">\n",
       "  <thead>\n",
       "    <tr style=\"text-align: right;\">\n",
       "      <th></th>\n",
       "      <th>ï»¿rank</th>\n",
       "      <th>youtuber</th>\n",
       "      <th>subscribers</th>\n",
       "      <th>video views</th>\n",
       "      <th>video count</th>\n",
       "      <th>category</th>\n",
       "      <th>started</th>\n",
       "    </tr>\n",
       "  </thead>\n",
       "  <tbody>\n",
       "    <tr>\n",
       "      <th>0</th>\n",
       "      <td>1</td>\n",
       "      <td>T-Series</td>\n",
       "      <td>213000000</td>\n",
       "      <td>188,073,919,029</td>\n",
       "      <td>16708.0</td>\n",
       "      <td>Music</td>\n",
       "      <td>2006</td>\n",
       "    </tr>\n",
       "    <tr>\n",
       "      <th>1</th>\n",
       "      <td>2</td>\n",
       "      <td>YouTube Movies</td>\n",
       "      <td>150000000</td>\n",
       "      <td>167,122,746,349</td>\n",
       "      <td>NaN</td>\n",
       "      <td>Film &amp; Animation</td>\n",
       "      <td>2015</td>\n",
       "    </tr>\n",
       "    <tr>\n",
       "      <th>2</th>\n",
       "      <td>3</td>\n",
       "      <td>Cocomelon - Nursery Rhymes</td>\n",
       "      <td>133000000</td>\n",
       "      <td>126,822,520,940</td>\n",
       "      <td>751.0</td>\n",
       "      <td>Education</td>\n",
       "      <td>2006</td>\n",
       "    </tr>\n",
       "    <tr>\n",
       "      <th>3</th>\n",
       "      <td>4</td>\n",
       "      <td>SET India</td>\n",
       "      <td>131000000</td>\n",
       "      <td>101,541,977,714</td>\n",
       "      <td>78334.0</td>\n",
       "      <td>Shows</td>\n",
       "      <td>2006</td>\n",
       "    </tr>\n",
       "    <tr>\n",
       "      <th>4</th>\n",
       "      <td>5</td>\n",
       "      <td>Music</td>\n",
       "      <td>116000000</td>\n",
       "      <td>78,437,871,689</td>\n",
       "      <td>NaN</td>\n",
       "      <td>Music</td>\n",
       "      <td>2013</td>\n",
       "    </tr>\n",
       "  </tbody>\n",
       "</table>\n",
       "</div>"
      ],
      "text/plain": [
       "   ï»¿rank                      youtuber  subscribers      video views   \\\n",
       "0         1                    T-Series      213000000  188,073,919,029   \n",
       "1         2              YouTube Movies      150000000  167,122,746,349   \n",
       "2         3  Cocomelon - Nursery Rhymes      133000000  126,822,520,940   \n",
       "3         4                   SET India      131000000  101,541,977,714   \n",
       "4         5                       Music      116000000   78,437,871,689   \n",
       "\n",
       "   video count           category   started   \n",
       "0       16708.0             Music       2006  \n",
       "1           NaN  Film & Animation       2015  \n",
       "2         751.0         Education       2006  \n",
       "3       78334.0             Shows       2006  \n",
       "4           NaN             Music       2013  "
      ]
     },
     "execution_count": 38,
     "metadata": {},
     "output_type": "execute_result"
    }
   ],
   "source": [
    "# Кравцов Андрей ИУ5-64Б Вариант 10\n",
    "import numpy as np\n",
    "import pandas as pd\n",
    "import seaborn as sns\n",
    "import matplotlib.pyplot as plt\n",
    "from sklearn.datasets import *\n",
    "%matplotlib inline \n",
    "sns.set(style=\"ticks\")\n",
    "data = pd.read_csv('Youtube_channels.csv', encoding='latin-1', sep=',', decimal=',')\n",
    "data.head()"
   ]
  },
  {
   "cell_type": "code",
   "execution_count": 39,
   "metadata": {},
   "outputs": [
    {
     "name": "stdout",
     "output_type": "stream",
     "text": [
      "<class 'pandas.core.frame.DataFrame'>\n",
      "RangeIndex: 100 entries, 0 to 99\n",
      "Data columns (total 7 columns):\n",
      " #   Column        Non-Null Count  Dtype  \n",
      "---  ------        --------------  -----  \n",
      " 0   ï»¿rank       100 non-null    int64  \n",
      " 1   youtuber      100 non-null    object \n",
      " 2   subscribers   100 non-null    int64  \n",
      " 3   video views   100 non-null    object \n",
      " 4   video count   95 non-null     float64\n",
      " 5   category      100 non-null    object \n",
      " 6   started       100 non-null    int64  \n",
      "dtypes: float64(1), int64(3), object(3)\n",
      "memory usage: 5.6+ KB\n"
     ]
    }
   ],
   "source": [
    "data.info()"
   ]
  },
  {
   "cell_type": "code",
   "execution_count": 40,
   "metadata": {},
   "outputs": [
    {
     "data": {
      "text/plain": [
       "ï»¿rank        0.0\n",
       "youtuber       0.0\n",
       "subscribers    0.0\n",
       "video views    0.0\n",
       "video count    5.0\n",
       "category       0.0\n",
       "started        0.0\n",
       "dtype: float64"
      ]
     },
     "execution_count": 40,
     "metadata": {},
     "output_type": "execute_result"
    }
   ],
   "source": [
    "#обработка пропусков в данных\n",
    "round(data.isna().sum()/(data.count()+data.isna().sum()), 2) * 100\n",
    "\n",
    "\n"
   ]
  },
  {
   "cell_type": "code",
   "execution_count": 41,
   "metadata": {},
   "outputs": [
    {
     "data": {
      "text/plain": [
       "count       95.0\n",
       "mean     15847.2\n",
       "std      40955.2\n",
       "min         45.0\n",
       "25%        393.5\n",
       "50%       1139.0\n",
       "75%       4986.0\n",
       "max     209351.0\n",
       "Name: video count , dtype: float64"
      ]
     },
     "execution_count": 41,
     "metadata": {},
     "output_type": "execute_result"
    }
   ],
   "source": [
    "#заполняю пропуски в 'video count'\n",
    "pd.set_option('display.float_format', lambda x: '%.1f' % x)\n",
    "data['video count '].describe()"
   ]
  },
  {
   "cell_type": "code",
   "execution_count": 42,
   "metadata": {},
   "outputs": [
    {
     "data": {
      "text/plain": [
       "count      100.0\n",
       "mean     15111.8\n",
       "std      40037.4\n",
       "min         45.0\n",
       "25%        405.2\n",
       "50%       1139.0\n",
       "75%       4582.8\n",
       "max     209351.0\n",
       "Name: video count , dtype: float64"
      ]
     },
     "execution_count": 42,
     "metadata": {},
     "output_type": "execute_result"
    }
   ],
   "source": [
    "#Mедиана - оптимальная для набора данных с простыми связями между признаками. Не реагирует на выбросы.\n",
    "from sklearn.impute import SimpleImputer\n",
    "imp = SimpleImputer(missing_values=np.nan, strategy='median')\n",
    "data['video count '] = imp.fit_transform(data[['video count ']])\n",
    "data['video count '].describe()"
   ]
  },
  {
   "cell_type": "code",
   "execution_count": 34,
   "metadata": {},
   "outputs": [
    {
     "data": {
      "text/plain": [
       "ï»¿rank         0\n",
       "youtuber        0\n",
       "subscribers     0\n",
       "video views     0\n",
       "video count     0\n",
       "category        0\n",
       "started         0\n",
       "dtype: int64"
      ]
     },
     "execution_count": 34,
     "metadata": {},
     "output_type": "execute_result"
    }
   ],
   "source": [
    "data.isna().sum()"
   ]
  },
  {
   "cell_type": "code",
   "execution_count": 43,
   "metadata": {},
   "outputs": [
    {
     "name": "stdout",
     "output_type": "stream",
     "text": [
      "<class 'pandas.core.frame.DataFrame'>\n",
      "RangeIndex: 100 entries, 0 to 99\n",
      "Data columns (total 7 columns):\n",
      " #   Column        Non-Null Count  Dtype  \n",
      "---  ------        --------------  -----  \n",
      " 0   ï»¿rank       100 non-null    int64  \n",
      " 1   youtuber      100 non-null    object \n",
      " 2   subscribers   100 non-null    int64  \n",
      " 3   video views   100 non-null    object \n",
      " 4   video count   100 non-null    float64\n",
      " 5   category      100 non-null    object \n",
      " 6   started       100 non-null    int64  \n",
      "dtypes: float64(1), int64(3), object(3)\n",
      "memory usage: 5.6+ KB\n"
     ]
    }
   ],
   "source": [
    "#кодирование категориальных признаков\n",
    "data.info()"
   ]
  },
  {
   "cell_type": "code",
   "execution_count": 44,
   "metadata": {},
   "outputs": [
    {
     "data": {
      "text/html": [
       "<div>\n",
       "<style scoped>\n",
       "    .dataframe tbody tr th:only-of-type {\n",
       "        vertical-align: middle;\n",
       "    }\n",
       "\n",
       "    .dataframe tbody tr th {\n",
       "        vertical-align: top;\n",
       "    }\n",
       "\n",
       "    .dataframe thead th {\n",
       "        text-align: right;\n",
       "    }\n",
       "</style>\n",
       "<table border=\"1\" class=\"dataframe\">\n",
       "  <thead>\n",
       "    <tr style=\"text-align: right;\">\n",
       "      <th></th>\n",
       "      <th>ï»¿rank</th>\n",
       "      <th>youtuber</th>\n",
       "      <th>subscribers</th>\n",
       "      <th>video views</th>\n",
       "      <th>video count</th>\n",
       "      <th>started</th>\n",
       "      <th>category _Comedy</th>\n",
       "      <th>category _Education</th>\n",
       "      <th>category _Entertainment</th>\n",
       "      <th>category _Film &amp; Animation</th>\n",
       "      <th>category _Gaming</th>\n",
       "      <th>category _How to &amp; Style</th>\n",
       "      <th>category _Music</th>\n",
       "      <th>category _News &amp; Politics</th>\n",
       "      <th>category _Nonprofits &amp; Activism</th>\n",
       "      <th>category _People &amp; Blogs</th>\n",
       "      <th>category _Shows</th>\n",
       "      <th>category _Sports</th>\n",
       "      <th>category _Trailers</th>\n",
       "    </tr>\n",
       "  </thead>\n",
       "  <tbody>\n",
       "    <tr>\n",
       "      <th>0</th>\n",
       "      <td>1</td>\n",
       "      <td>T-Series</td>\n",
       "      <td>213000000</td>\n",
       "      <td>188,073,919,029</td>\n",
       "      <td>16708.0</td>\n",
       "      <td>2006</td>\n",
       "      <td>0</td>\n",
       "      <td>0</td>\n",
       "      <td>0</td>\n",
       "      <td>0</td>\n",
       "      <td>0</td>\n",
       "      <td>0</td>\n",
       "      <td>1</td>\n",
       "      <td>0</td>\n",
       "      <td>0</td>\n",
       "      <td>0</td>\n",
       "      <td>0</td>\n",
       "      <td>0</td>\n",
       "      <td>0</td>\n",
       "    </tr>\n",
       "    <tr>\n",
       "      <th>1</th>\n",
       "      <td>2</td>\n",
       "      <td>YouTube Movies</td>\n",
       "      <td>150000000</td>\n",
       "      <td>167,122,746,349</td>\n",
       "      <td>1139.0</td>\n",
       "      <td>2015</td>\n",
       "      <td>0</td>\n",
       "      <td>0</td>\n",
       "      <td>0</td>\n",
       "      <td>1</td>\n",
       "      <td>0</td>\n",
       "      <td>0</td>\n",
       "      <td>0</td>\n",
       "      <td>0</td>\n",
       "      <td>0</td>\n",
       "      <td>0</td>\n",
       "      <td>0</td>\n",
       "      <td>0</td>\n",
       "      <td>0</td>\n",
       "    </tr>\n",
       "    <tr>\n",
       "      <th>2</th>\n",
       "      <td>3</td>\n",
       "      <td>Cocomelon - Nursery Rhymes</td>\n",
       "      <td>133000000</td>\n",
       "      <td>126,822,520,940</td>\n",
       "      <td>751.0</td>\n",
       "      <td>2006</td>\n",
       "      <td>0</td>\n",
       "      <td>1</td>\n",
       "      <td>0</td>\n",
       "      <td>0</td>\n",
       "      <td>0</td>\n",
       "      <td>0</td>\n",
       "      <td>0</td>\n",
       "      <td>0</td>\n",
       "      <td>0</td>\n",
       "      <td>0</td>\n",
       "      <td>0</td>\n",
       "      <td>0</td>\n",
       "      <td>0</td>\n",
       "    </tr>\n",
       "    <tr>\n",
       "      <th>3</th>\n",
       "      <td>4</td>\n",
       "      <td>SET India</td>\n",
       "      <td>131000000</td>\n",
       "      <td>101,541,977,714</td>\n",
       "      <td>78334.0</td>\n",
       "      <td>2006</td>\n",
       "      <td>0</td>\n",
       "      <td>0</td>\n",
       "      <td>0</td>\n",
       "      <td>0</td>\n",
       "      <td>0</td>\n",
       "      <td>0</td>\n",
       "      <td>0</td>\n",
       "      <td>0</td>\n",
       "      <td>0</td>\n",
       "      <td>0</td>\n",
       "      <td>1</td>\n",
       "      <td>0</td>\n",
       "      <td>0</td>\n",
       "    </tr>\n",
       "    <tr>\n",
       "      <th>4</th>\n",
       "      <td>5</td>\n",
       "      <td>Music</td>\n",
       "      <td>116000000</td>\n",
       "      <td>78,437,871,689</td>\n",
       "      <td>1139.0</td>\n",
       "      <td>2013</td>\n",
       "      <td>0</td>\n",
       "      <td>0</td>\n",
       "      <td>0</td>\n",
       "      <td>0</td>\n",
       "      <td>0</td>\n",
       "      <td>0</td>\n",
       "      <td>1</td>\n",
       "      <td>0</td>\n",
       "      <td>0</td>\n",
       "      <td>0</td>\n",
       "      <td>0</td>\n",
       "      <td>0</td>\n",
       "      <td>0</td>\n",
       "    </tr>\n",
       "  </tbody>\n",
       "</table>\n",
       "</div>"
      ],
      "text/plain": [
       "   ï»¿rank                      youtuber  subscribers      video views   \\\n",
       "0         1                    T-Series      213000000  188,073,919,029   \n",
       "1         2              YouTube Movies      150000000  167,122,746,349   \n",
       "2         3  Cocomelon - Nursery Rhymes      133000000  126,822,520,940   \n",
       "3         4                   SET India      131000000  101,541,977,714   \n",
       "4         5                       Music      116000000   78,437,871,689   \n",
       "\n",
       "   video count   started   category _Comedy   category _Education   \\\n",
       "0       16708.0      2006                  0                     0   \n",
       "1        1139.0      2015                  0                     0   \n",
       "2         751.0      2006                  0                     1   \n",
       "3       78334.0      2006                  0                     0   \n",
       "4        1139.0      2013                  0                     0   \n",
       "\n",
       "   category _Entertainment   category _Film & Animation   category _Gaming   \\\n",
       "0                         0                            0                  0   \n",
       "1                         0                            1                  0   \n",
       "2                         0                            0                  0   \n",
       "3                         0                            0                  0   \n",
       "4                         0                            0                  0   \n",
       "\n",
       "   category _How to & Style   category _Music   category _News & Politics  \\\n",
       "0                          0                 1                          0   \n",
       "1                          0                 0                          0   \n",
       "2                          0                 0                          0   \n",
       "3                          0                 0                          0   \n",
       "4                          0                 1                          0   \n",
       "\n",
       "   category _Nonprofits & Activism   category _People & Blogs   \\\n",
       "0                                 0                          0   \n",
       "1                                 0                          0   \n",
       "2                                 0                          0   \n",
       "3                                 0                          0   \n",
       "4                                 0                          0   \n",
       "\n",
       "   category _Shows   category _Sports   category _Trailers   \n",
       "0                 0                  0                    0  \n",
       "1                 0                  0                    0  \n",
       "2                 0                  0                    0  \n",
       "3                 1                  0                    0  \n",
       "4                 0                  0                    0  "
      ]
     },
     "execution_count": 44,
     "metadata": {},
     "output_type": "execute_result"
    }
   ],
   "source": [
    "data = pd.get_dummies(data, columns=['category '])\n",
    "data.head()"
   ]
  },
  {
   "cell_type": "code",
   "execution_count": 52,
   "metadata": {},
   "outputs": [
    {
     "data": {
      "text/plain": [
       "<AxesSubplot:xlabel='video count ', ylabel='Count'>"
      ]
     },
     "execution_count": 52,
     "metadata": {},
     "output_type": "execute_result"
    },
    {
     "data": {
      "image/png": "[encoded data removed]",
      "text/plain": [
       "<Figure size 432x288 with 1 Axes>"
      ]
     },
     "metadata": {},
     "output_type": "display_data"
    }
   ],
   "source": [
    "sns.histplot(data['video count '])"
   ]
  },
  {
   "cell_type": "code",
   "execution_count": 54,
   "metadata": {},
   "outputs": [
    {
     "data": {
      "image/png": "[encoded data removed]",
      "text/plain": [
       "<Figure size 432x288 with 1 Axes>"
      ]
     },
     "metadata": {},
     "output_type": "display_data"
    }
   ],
   "source": [
    "#масштабирование данных\n",
    "from sklearn.preprocessing import MinMaxScaler, StandardScaler, Normalizer\n",
    "sc = StandardScaler()\n",
    "sc_data = sc.fit_transform(data[['video count ']])\n",
    "plt.hist(sc_data, 50)\n",
    "plt.show()"
   ]
  },
  {
   "cell_type": "code",
   "execution_count": 56,
   "metadata": {},
   "outputs": [
    {
     "data": {
      "text/plain": [
       "<AxesSubplot:xlabel='subscribers ', ylabel='Count'>"
      ]
     },
     "execution_count": 56,
     "metadata": {},
     "output_type": "execute_result"
    },
    {
     "data": {
      "image/png": "[encoded data removed]",
      "text/plain": [
       "<Figure size 432x288 with 1 Axes>"
      ]
     },
     "metadata": {},
     "output_type": "display_data"
    }
   ],
   "source": [
    "sns.histplot(data['subscribers '])"
   ]
  },
  {
   "cell_type": "code",
   "execution_count": 49,
   "metadata": {},
   "outputs": [
    {
     "data": {
      "image/png": "[encoded data removed]",
      "text/plain": [
       "<Figure size 432x288 with 1 Axes>"
      ]
     },
     "metadata": {},
     "output_type": "display_data"
    }
   ],
   "source": [
    "sc2 = MinMaxScaler()\n",
    "sc2_data = sc2.fit_transform(data[['subscribers ']])\n",
    "plt.hist(sc2_data, 50)\n",
    "plt.show()"
   ]
  }
 ],
 "metadata": {
  "interpreter": {
   "hash": "aee8b7b246df8f9039afb4144a1f6fd8d2ca17a180786b69acc140d282b71a49"
  },
  "kernelspec": {
   "display_name": "Python 3.9.5 64-bit",
   "language": "python",
   "name": "python3"
  },
  "language_info": {
   "codemirror_mode": {
    "name": "ipython",
    "version": 3
   },
   "file_extension": ".py",
   "mimetype": "text/x-python",
   "name": "python",
   "nbconvert_exporter": "python",
   "pygments_lexer": "ipython3",
   "version": "3.9.5"
  },
  "orig_nbformat": 4
 },
 "nbformat": 4,
 "nbformat_minor": 2
}
